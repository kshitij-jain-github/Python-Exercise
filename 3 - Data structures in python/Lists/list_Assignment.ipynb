{
 "cells": [
  {
   "cell_type": "markdown",
   "id": "7ad523de",
   "metadata": {},
   "source": [
    "# Module 3: Data Structures Assignments\n",
    "## Lesson 3.1: Lists\n",
    "### Assignment 1: Creating and Accessing Lists\n",
    "\n",
    "Create a list of the first 20 positive integers. Print the list."
   ]
  },
  {
   "cell_type": "code",
   "execution_count": 120,
   "id": "ae308d7c",
   "metadata": {},
   "outputs": [
    {
     "name": "stdout",
     "output_type": "stream",
     "text": [
      "[1, 2, 3, 4, 5, 6, 7, 8, 9, 10, 11, 12, 13, 14, 15, 16, 17, 18, 19, 20, 1, 2, 3, 4, 5, 6, 7, 8, 9, 10, 11, 12, 13, 14, 15, 16, 17, 18, 19, 20, 1, 2, 3, 4, 5, 6, 7, 8, 9, 10, 11, 12, 13, 14, 15, 16, 17, 18, 19, 20]\n"
     ]
    }
   ],
   "source": [
    "lst= [i for i in range(1,21)]\n",
    "print(lst)"
   ]
  },
  {
   "cell_type": "markdown",
   "metadata": {},
   "source": [
    "### Assignment 2: Accessing List Elements\n",
    "\n",
    "Print the first, middle, and last elements of the list created in Assignment 1."
   ]
  },
  {
   "cell_type": "code",
   "execution_count": 122,
   "id": "15166dbb",
   "metadata": {},
   "outputs": [
    {
     "name": "stdout",
     "output_type": "stream",
     "text": [
      "1 11 20\n"
     ]
    }
   ],
   "source": [
    "print(lst[0], lst[len(lst)//2], lst[-1])"
   ]
  },
  {
   "cell_type": "markdown",
   "metadata": {},
   "source": [
    "### Assignment 3: List Slicing\n",
    "\n",
    "Print the first five elements, the last five elements, and the elements from index 5 to 15 of the list created in Assignment 1."
   ]
  },
  {
   "cell_type": "code",
   "execution_count": null,
   "id": "9b17c78d",
   "metadata": {},
   "outputs": [],
   "source": [
    "print(lst[:5], lst[-5:],lst[5:16])"
   ]
  },
  {
   "cell_type": "markdown",
   "metadata": {},
   "source": [
    "\n",
    "### Assignment 4: List Comprehensions\n",
    "\n",
    "Create a new list containing the squares of the first 10 positive integers using a list comprehension. Print the new list."
   ]
  },
  {
   "cell_type": "code",
   "execution_count": 123,
   "id": "4067ed8e",
   "metadata": {},
   "outputs": [
    {
     "name": "stdout",
     "output_type": "stream",
     "text": [
      "[1, 4, 9, 16, 25, 36, 49, 64, 81, 100, 1, 4, 9, 16, 25, 36, 49, 64, 81, 100]\n"
     ]
    }
   ],
   "source": [
    "sqr = [x**2 for x in range(1,11)]\n",
    "print(sqr)"
   ]
  },
  {
   "cell_type": "markdown",
   "metadata": {},
   "source": [
    "### Assignment 5: Filtering Lists\n",
    "\n",
    "Create a new list containing only the even numbers from the list created in Assignment 1 using a list comprehension. Print the new list.\n"
   ]
  },
  {
   "cell_type": "code",
   "execution_count": null,
   "id": "e93628d5",
   "metadata": {},
   "outputs": [],
   "source": [
    "even_lst = [ x for x in lst if x%2==0]\n",
    "print(even_lst)\n",
    "\n"
   ]
  },
  {
   "cell_type": "markdown",
   "id": "99c9f99f",
   "metadata": {},
   "source": [
    "### Assignment 6: List Methods\n",
    "\n",
    "Create a list of random numbers and sort it in ascending and descending order. Remove the duplicates from the list and print the modified list."
   ]
  },
  {
   "cell_type": "code",
   "execution_count": null,
   "id": "2ab0f43f",
   "metadata": {},
   "outputs": [],
   "source": [
    "rand_lst = [1,5,2,35,7,9,3,2,3,23,1,23,4,6,1,3,4]\n",
    "rand_lst.sort()\n",
    "print(rand_lst)\n",
    "rand_lst.reverse() \n",
    "print(rand_lst)\n",
    "\n"
   ]
  },
  {
   "cell_type": "markdown",
   "id": "7dd45e95",
   "metadata": {},
   "source": [
    "### Assignment 7: Nested Lists\n",
    "\n",
    "Create a nested list representing a 3x3 matrix and print the matrix. Access and print the element at the second row and third column."
   ]
  },
  {
   "cell_type": "code",
   "execution_count": null,
   "id": "15474307",
   "metadata": {},
   "outputs": [],
   "source": [
    "lst=[[1,2,3],[4,5,6],[7,8,9]]\n",
    "for x in lst:    \n",
    "    print(x)\n",
    "print(lst[1][2])"
   ]
  },
  {
   "cell_type": "markdown",
   "id": "25662ad3",
   "metadata": {},
   "source": [
    "### Assignment 8: List of Dictionaries\n",
    "\n",
    "Create a list of dictionaries where each dictionary represents a student with keys 'name' and 'score'. Sort the list of dictionaries by the 'score' in descending order and print the sorted list."
   ]
  },
  {
   "cell_type": "code",
   "execution_count": null,
   "id": "e35f020c",
   "metadata": {},
   "outputs": [],
   "source": []
  },
  {
   "cell_type": "markdown",
   "id": "fc300beb",
   "metadata": {},
   "source": [
    "### Assignment 9: Matrix Transposition\n",
    "\n",
    "Write a function that takes a 3x3 matrix (nested list) as input and returns its transpose. Print the original and transposed matrices."
   ]
  },
  {
   "cell_type": "code",
   "execution_count": null,
   "id": "7ca3b6ec",
   "metadata": {},
   "outputs": [],
   "source": []
  },
  {
   "cell_type": "markdown",
   "id": "8cf2b938",
   "metadata": {},
   "source": [
    "### Assignment 10: Flattening a Nested List\n",
    "\n",
    "Write a function that takes a nested list and flattens it into a single list. Print the original and flattened lists."
   ]
  },
  {
   "cell_type": "code",
   "execution_count": null,
   "id": "7d600b2f",
   "metadata": {},
   "outputs": [],
   "source": []
  },
  {
   "cell_type": "markdown",
   "metadata": {},
   "source": [
    "### Assignment 11: List Manipulation\n",
    "\n",
    "Create a list of the first 10 positive integers. Remove the elements at indices 2, 4, and 6, and insert the element '99' at index 5. Print the modified list."
   ]
  },
  {
   "cell_type": "code",
   "execution_count": 118,
   "id": "83fe8118",
   "metadata": {},
   "outputs": [
    {
     "name": "stdout",
     "output_type": "stream",
     "text": [
      "[1, 2, 3, 4, 5, 6, 7, 8, 9, 10]\n",
      "[1, 2, 4, 5, 7, 99, 8, 10]\n"
     ]
    }
   ],
   "source": [
    "lst = [x for x in range(1,11)]\n",
    "print(lst)\n",
    "del lst[2]\n",
    "del lst[4]\n",
    "del lst[6]\n",
    "lst.insert(5,99)\n",
    "print(lst)"
   ]
  },
  {
   "cell_type": "markdown",
   "id": "2ac07976",
   "metadata": {},
   "source": [
    "### Assignment 12: List Zipping\n",
    "\n",
    "Create two lists of the same length. Use the `zip` function to combine these lists into a list of tuples and print the result."
   ]
  },
  {
   "cell_type": "code",
   "execution_count": 119,
   "id": "7eff9836",
   "metadata": {},
   "outputs": [
    {
     "name": "stdout",
     "output_type": "stream",
     "text": [
      "((1, 2), (2, 3), (3, 1), (4, 3))\n"
     ]
    }
   ],
   "source": [
    "lst1 = [1,2,3,4]\n",
    "lst2=[2,3,1,3]\n",
    "lst3= zip(lst1,lst2)\n",
    "print(tuple(lst3))"
   ]
  },
  {
   "cell_type": "markdown",
   "id": "c80c6219",
   "metadata": {},
   "source": [
    "### Assignment 13: List Reversal\n",
    "\n",
    "Write a function that takes a list and returns a new list with the elements in reverse order. Print the original and reversed lists."
   ]
  },
  {
   "cell_type": "code",
   "execution_count": 115,
   "id": "96ed5fca",
   "metadata": {},
   "outputs": [
    {
     "name": "stdout",
     "output_type": "stream",
     "text": [
      "[1, 2, 3, 4, 5, 6]\n",
      "[6, 5, 4, 3, 2, 1]\n"
     ]
    }
   ],
   "source": [
    "def myfunc(x):\n",
    "    x.reverse()\n",
    "    return x\n",
    "m=[1,2,3,4,5,6]\n",
    "print(m)\n",
    "print(myfunc(m))"
   ]
  },
  {
   "cell_type": "markdown",
   "id": "7cfc58a9",
   "metadata": {},
   "source": [
    "\n",
    "### Assignment 14: List Rotation\n",
    "\n",
    "Write a function that rotates a list by n positions. Print the original and rotated lists."
   ]
  },
  {
   "cell_type": "code",
   "execution_count": 117,
   "id": "d1a35108",
   "metadata": {},
   "outputs": [
    {
     "name": "stdout",
     "output_type": "stream",
     "text": [
      "[1, 2, 3, 4, 5, 6]\n",
      "[3, 4, 5, 6, 1, 2]\n"
     ]
    }
   ],
   "source": [
    "l1= [1,2,3,4,5,6]\n",
    "print(l1)\n",
    "l2= l1[2:]+l1[:2]\n",
    "print(l2)"
   ]
  },
  {
   "cell_type": "markdown",
   "id": "34237cef",
   "metadata": {},
   "source": [
    "### Assignment 15: List Intersection\n",
    "\n",
    "Write a function that takes two lists and returns a new list containing only the elements that are present in both lists. Print the intersected list."
   ]
  },
  {
   "cell_type": "code",
   "execution_count": 116,
   "id": "c6bcd7f2",
   "metadata": {},
   "outputs": [
    {
     "name": "stdout",
     "output_type": "stream",
     "text": [
      "[3, 4, 5, 6]\n"
     ]
    }
   ],
   "source": [
    "lst1= [1,2,3,4,5,6]\n",
    "lst2 = [3,4,5,6,7,8,9]\n",
    "lst3 = [x for x in lst1 if x in lst2]\n",
    "print(lst3)"
   ]
  },
  {
   "cell_type": "code",
   "execution_count": null,
   "id": "f08f7cd2",
   "metadata": {},
   "outputs": [],
   "source": []
  }
 ],
 "metadata": {
  "kernelspec": {
   "display_name": "Python 3",
   "language": "python",
   "name": "python3"
  },
  "language_info": {
   "codemirror_mode": {
    "name": "ipython",
    "version": 3
   },
   "file_extension": ".py",
   "mimetype": "text/x-python",
   "name": "python",
   "nbconvert_exporter": "python",
   "pygments_lexer": "ipython3",
   "version": "3.12.0"
  }
 },
 "nbformat": 4,
 "nbformat_minor": 5
}
