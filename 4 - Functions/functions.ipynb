{
 "cells": [
  {
   "cell_type": "markdown",
   "metadata": {},
   "source": [
    "#### Example 1: Temperature Conversion"
   ]
  },
  {
   "cell_type": "code",
   "execution_count": 5,
   "metadata": {},
   "outputs": [
    {
     "name": "stdout",
     "output_type": "stream",
     "text": [
      "77.0 ˚f\n",
      "25.0 ˚C\n"
     ]
    }
   ],
   "source": [
    "def convert_temp(temp,deg):\n",
    "    if deg=='c' or deg=='C':\n",
    "        print(f\"{temp*9/5 + 32} ˚f\")\n",
    "    elif deg=='f' or deg=='F':\n",
    "        print(f\"{((temp-32)*5/9)} ˚C\")\n",
    "    else:\n",
    "        print(\"enter valid input\")\n",
    "\n",
    "convert_temp(25,'c')\n",
    "convert_temp(77,'f')"
   ]
  },
  {
   "cell_type": "markdown",
   "metadata": {},
   "source": [
    "##### Example 2: Password Strength Checker"
   ]
  },
  {
   "cell_type": "code",
   "execution_count": null,
   "metadata": {},
   "outputs": [],
   "source": [
    "def valid_pass(password):\n",
    "    if len(password) < 8 :\n",
    "        print(\"Password must be 8 or above char long\")\n",
    "    if password \n",
    "    "
   ]
  },
  {
   "cell_type": "markdown",
   "metadata": {},
   "source": [
    "##### Example 3: Calculate the Total Cost Of Items In a Shopping Cart"
   ]
  },
  {
   "cell_type": "code",
   "execution_count": 14,
   "metadata": {},
   "outputs": [
    {
     "name": "stdout",
     "output_type": "stream",
     "text": [
      "Total cart value : $80\n"
     ]
    }
   ],
   "source": [
    "def cart(cost):\n",
    "    total_price =0\n",
    "    for c in cost:\n",
    "        \n",
    "        total_price+= c[\"price\"]*c[\"quantity\"]\n",
    "       \n",
    "    return (f\"Total cart value : ${total_price}\")\n",
    "    \n",
    "    \n",
    "cost = [\n",
    "    {\"product\" : \"earphone\", \"price\" : 2, \"quantity\": 10},\n",
    "    {\"product\" : \"tab\", \"price\" : 1, \"quantity\": 10},\n",
    "    {\"product\" : \"laptop\", \"price\" : 2, \"quantity\": 10},\n",
    "    {\"product\" : \"phone\", \"price\" : 1, \"quantity\": 10},\n",
    "    {\"product\" : \"charger\", \"price\" : 2, \"quantity\": 10}\n",
    "]\n",
    "print(cart(cost))"
   ]
  },
  {
   "cell_type": "markdown",
   "metadata": {},
   "source": [
    "##### Example 4: Check IF a String Is Palindrome"
   ]
  },
  {
   "cell_type": "code",
   "execution_count": 19,
   "metadata": {},
   "outputs": [
    {
     "data": {
      "text/plain": [
       "(False, 'abc', 'cba')"
      ]
     },
     "execution_count": 19,
     "metadata": {},
     "output_type": "execute_result"
    }
   ],
   "source": [
    "def check(str):\n",
    "    if str == str[::-1]:\n",
    "        return True, str , str[::-1]\n",
    "    else:\n",
    "        return False, str , str[::-1]\n",
    "check('abc')"
   ]
  },
  {
   "cell_type": "markdown",
   "metadata": {},
   "source": [
    "##### Example 5: Calculate the factorials of a number using recursion"
   ]
  },
  {
   "cell_type": "code",
   "execution_count": 22,
   "metadata": {},
   "outputs": [
    {
     "data": {
      "text/plain": [
       "120"
      ]
     },
     "execution_count": 22,
     "metadata": {},
     "output_type": "execute_result"
    }
   ],
   "source": [
    "def factorial(num):\n",
    "    if num==0:\n",
    "        return 1\n",
    "    else:\n",
    "     return num*factorial(num-1)\n",
    "\n",
    "factorial(5)"
   ]
  },
  {
   "cell_type": "markdown",
   "metadata": {},
   "source": [
    "##### Example 6: A Function To Read A File and count the frequency of each word"
   ]
  },
  {
   "cell_type": "code",
   "execution_count": null,
   "metadata": {},
   "outputs": [],
   "source": []
  },
  {
   "cell_type": "markdown",
   "metadata": {},
   "source": [
    "##### Example 7: Validate Email Address"
   ]
  },
  {
   "cell_type": "code",
   "execution_count": null,
   "metadata": {},
   "outputs": [],
   "source": []
  }
 ],
 "metadata": {
  "kernelspec": {
   "display_name": "Python 3",
   "language": "python",
   "name": "python3"
  },
  "language_info": {
   "codemirror_mode": {
    "name": "ipython",
    "version": 3
   },
   "file_extension": ".py",
   "mimetype": "text/x-python",
   "name": "python",
   "nbconvert_exporter": "python",
   "pygments_lexer": "ipython3",
   "version": "3.12.0"
  }
 },
 "nbformat": 4,
 "nbformat_minor": 2
}
