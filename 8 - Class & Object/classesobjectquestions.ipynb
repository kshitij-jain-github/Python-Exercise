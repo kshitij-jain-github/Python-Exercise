{
 "cells": [
  {
   "cell_type": "markdown",
   "id": "93be465e",
   "metadata": {},
   "source": [
    "# Module: Classes and Objects Assignments\n",
    "## Lesson: Creating and Working with Classes and Objects\n",
    "### Assignment 1: Basic Class and Object Creation\n",
    "\n",
    "Create a class named `Car` with attributes `make`, `model`, and `year`. Create an object of the class and print its attributes."
   ]
  },
  {
   "cell_type": "code",
   "execution_count": 4,
   "id": "79e67ba0",
   "metadata": {},
   "outputs": [
    {
     "name": "stdout",
     "output_type": "stream",
     "text": [
      "BMW M3 2003\n"
     ]
    }
   ],
   "source": [
    "class Car:\n",
    "    def __init__(self,make, model, year) :\n",
    "        self.make =  make\n",
    "        self.model=model\n",
    "        self.year=year\n",
    "        \n",
    "obj1 = Car(\"BMW\",\"M3\",2003)\n",
    "print(obj1.make , obj1.model , obj1.year)"
   ]
  },
  {
   "cell_type": "markdown",
   "id": "c07c73f3",
   "metadata": {},
   "source": [
    "\n",
    "### Assignment 2: Methods in Class\n",
    "\n",
    "Add a method named `start_engine` to the `Car` class that prints a message when the engine starts. Create an object of the class and call the method."
   ]
  },
  {
   "cell_type": "code",
   "execution_count": 14,
   "id": "3d8922de",
   "metadata": {},
   "outputs": [
    {
     "name": "stdout",
     "output_type": "stream",
     "text": [
      "Your BMW with model M3 build in year 2003 is Started!!!\n"
     ]
    }
   ],
   "source": [
    "class Car:\n",
    "    def __init__(self,make, model, year) :\n",
    "        self.make =  make\n",
    "        self.model=model\n",
    "        self.year=year\n",
    "    def start_engine(self):\n",
    "        print(f\"Your {self.make} with model {self.model} build in year {self.year} is Started!!!\")\n",
    "        \n",
    "obj= Car(\"BMW\",\"M3\",2003)\n",
    "obj.start_engine()"
   ]
  },
  {
   "cell_type": "markdown",
   "id": "da9957da",
   "metadata": {},
   "source": [
    "\n",
    "### Assignment 3: Class with Constructor\n",
    "\n",
    "Create a class named `Student` with attributes `name` and `age`. Use a constructor to initialize these attributes. Create an object of the class and print its attributes."
   ]
  },
  {
   "cell_type": "code",
   "execution_count": 16,
   "id": "aa35c913",
   "metadata": {},
   "outputs": [
    {
     "name": "stdout",
     "output_type": "stream",
     "text": [
      "Kshitij 23\n"
     ]
    }
   ],
   "source": [
    "class Student:\n",
    "    def __init__(self,name,age):\n",
    "        self.name=name\n",
    "        self.age=age\n",
    "o = Student(\"Kshitij\",23)\n",
    "print(o.name,o.age)"
   ]
  },
  {
   "cell_type": "markdown",
   "id": "dc836aca",
   "metadata": {},
   "source": [
    "\n",
    "### Assignment 4: Class with Private Attributes\n",
    "\n",
    "Create a class named `BankAccount` with private attributes `account_number` and `balance`. Add methods to deposit and withdraw money, and to check the balance. Create an object of the class and perform some operations."
   ]
  },
  {
   "cell_type": "code",
   "execution_count": 30,
   "id": "9b22c1cd",
   "metadata": {},
   "outputs": [
    {
     "name": "stdout",
     "output_type": "stream",
     "text": [
      "Account No. 15208342443\n",
      "Balance : 0\n",
      "Account No. : 15208342443\n",
      "Amount Credited: 5000 \n",
      "Updated Balance : 5000\n",
      "Account No. : 15208342443\n",
      "Amount Withdrawn: 2000\n",
      "Updated Balance : 3000\n"
     ]
    }
   ],
   "source": [
    "class BankAccount:\n",
    "    def __init__(self,acc_num,balance=0):\n",
    "        self.acc_num=acc_num\n",
    "        self.balance=balance\n",
    "    def deposite(self,amount):\n",
    "        self.balance+=amount\n",
    "        print(f\"Account No. : {self.acc_num}\\nAmount Credited: {amount} \\nUpdated Balance : {self.balance}\")\n",
    "        \n",
    "    def withdraw(self,amount):\n",
    "        if self.balance>amount: \n",
    "           self.balance-=amount\n",
    "           print(f\"Account No. : {self.acc_num}\\nAmount Withdrawn: {amount}\\nUpdated Balance : {self.balance}\")\n",
    "        else:\n",
    "            print(\"Insufficient Funds\")\n",
    "    def get_details(self):\n",
    "        print(f\"Account No. {self.acc_num}\\nBalance : {self.balance}\")\n",
    "new_acc = BankAccount(15208342443)\n",
    "new_acc.get_details()\n",
    "new_acc.deposite(5000)\n",
    "new_acc.withdraw(2000)"
   ]
  },
  {
   "cell_type": "markdown",
   "id": "dcdb8f6d",
   "metadata": {},
   "source": [
    "\n",
    "\n",
    "### Assignment 5: Class Inheritance\n",
    "\n",
    "Create a base class named `Person` with attributes `name` and `age`. Create a derived class named `Employee` that inherits from `Person` and adds an attribute `employee_id`. Create an object of the derived class and print its attributes."
   ]
  },
  {
   "cell_type": "code",
   "execution_count": 34,
   "id": "85ed1fc9",
   "metadata": {},
   "outputs": [
    {
     "name": "stdout",
     "output_type": "stream",
     "text": [
      "Kshitij 23 123\n"
     ]
    }
   ],
   "source": [
    "class Person:\n",
    "    def __init__(self, name , age):\n",
    "        self.name=name\n",
    "        self.age=age\n",
    "class Employee(Person):\n",
    "    def __init__(self,name,age,employee_id):\n",
    "        super().__init__(name,age)\n",
    "        self.employee_id=employee_id\n",
    "        \n",
    "obj = Employee(\"Kshitij\", 23, 123)\n",
    "print(obj.name,obj.age,obj.employee_id)\n",
    "        "
   ]
  },
  {
   "cell_type": "markdown",
   "id": "c16b86cd",
   "metadata": {},
   "source": [
    "\n",
    "### Assignment 6: Method Overriding\n",
    "\n",
    "In the `Employee` class, override the `__str__` method to return a string representation of the object. Create an object of the class and print it."
   ]
  },
  {
   "cell_type": "code",
   "execution_count": 39,
   "id": "bce27fd5",
   "metadata": {},
   "outputs": [
    {
     "name": "stdout",
     "output_type": "stream",
     "text": [
      "Kshtij is an Employee with age 23 whose Employee Id is 233\n"
     ]
    }
   ],
   "source": [
    "class Person:\n",
    "    def __init__(self, name , age):\n",
    "        self.name=name\n",
    "        self.age=age\n",
    "class Employee(Person):\n",
    "    def __init__(self,name,age,employee_id):\n",
    "        super().__init__(name,age)\n",
    "        self.employee_id=employee_id\n",
    "    def __str__(self):\n",
    "        return f\"{self.name} is an Employee with age {self.age} whose Employee Id is {self.employee_id}\"\n",
    "obj=Employee(\"Kshtij\", 23,233)\n",
    "print(obj.__str__())"
   ]
  },
  {
   "cell_type": "markdown",
   "id": "93ffbfe7",
   "metadata": {},
   "source": [
    "\n",
    "### Assignment 7: Class Composition\n",
    "\n",
    "Create a class named `Address` with attributes `street`, `city`, and `zipcode`. Create a class named `Person` that has an `Address` object as an attribute. Create an object of the `Person` class and print its address.\n"
   ]
  },
  {
   "cell_type": "code",
   "execution_count": 43,
   "id": "c5bc2be8",
   "metadata": {},
   "outputs": [
    {
     "name": "stdout",
     "output_type": "stream",
     "text": [
      "delhi\n"
     ]
    }
   ],
   "source": [
    "class Address:\n",
    "    def __init__(self,street,city,zipcode):\n",
    "        self.street=street\n",
    "        self.city=city\n",
    "        self.zipcode=zipcode\n",
    "class Person(Address):\n",
    "    def __init__(self,name,age,address):\n",
    "        self.name=name\n",
    "        self.age=age\n",
    "        self.address= address\n",
    "address=Address(\"123\",\"delhi\",10213)\n",
    "obj = Person(\"Kshitij\",12,address)\n",
    "print(obj.address.city)"
   ]
  },
  {
   "cell_type": "markdown",
   "id": "5f9fd8b7",
   "metadata": {},
   "source": [
    "\n",
    "### Assignment 8: Class with Class Variables\n",
    "\n",
    "Create a class named `Counter` with a class variable `count`. Each time an object is created, increment the count. Add a method to get the current count. Create multiple objects and print the count."
   ]
  },
  {
   "cell_type": "code",
   "execution_count": 53,
   "id": "cfa5f59b",
   "metadata": {},
   "outputs": [
    {
     "name": "stdout",
     "output_type": "stream",
     "text": [
      "4\n"
     ]
    }
   ],
   "source": [
    "class Counter:\n",
    "    count = 0\n",
    "    def __init__(self):\n",
    "        Counter.count+=1\n",
    "    @classmethod\n",
    "    def count_obj(cls):\n",
    "        return cls.count\n",
    "x1= Counter()   \n",
    "x2= Counter()   \n",
    "x3= Counter()   \n",
    "x4= Counter()   \n",
    "print(Counter.count)  "
   ]
  },
  {
   "cell_type": "markdown",
   "id": "bebb7034",
   "metadata": {},
   "source": [
    "\n",
    "\n",
    "\n",
    "### Assignment 9: Static Methods\n",
    "\n",
    "Create a class named `MathOperations` with a static method to calculate the square root of a number. Call the static method without creating an object."
   ]
  },
  {
   "cell_type": "code",
   "execution_count": 62,
   "id": "76f9e851",
   "metadata": {},
   "outputs": [
    {
     "data": {
      "text/plain": [
       "3.872983346207417"
      ]
     },
     "execution_count": 62,
     "metadata": {},
     "output_type": "execute_result"
    }
   ],
   "source": [
    "import math\n",
    "class MathOperations:\n",
    "    @staticmethod\n",
    "    def sqrt(n):\n",
    "        return math.sqrt(n)\n",
    "    \n",
    "o = MathOperations()\n",
    "o.sqrt(15)"
   ]
  },
  {
   "cell_type": "markdown",
   "id": "ab9d0a32",
   "metadata": {},
   "source": [
    "\n",
    "### Assignment 10: Class with Properties\n",
    "\n",
    "Create a class named `Rectangle` with private attributes `length` and `width`. Use properties to get and set these attributes. Create an object of the class and test the properties."
   ]
  },
  {
   "cell_type": "code",
   "execution_count": 58,
   "id": "293e2992",
   "metadata": {},
   "outputs": [
    {
     "name": "stdout",
     "output_type": "stream",
     "text": [
      "12\n",
      "4\n",
      "5\n",
      "20\n"
     ]
    }
   ],
   "source": [
    "class Rectangle:\n",
    "    def __init__(self,leng,bred) -> None:\n",
    "        self.leng=leng\n",
    "        self.bred=bred\n",
    "        \n",
    "    def get_len(self):\n",
    "        return self.leng\n",
    "    def set_len(self,leng):\n",
    "        self.leng=leng\n",
    "    def get_bred(self):\n",
    "        return self.bred\n",
    "    def set_bred(self,bred):\n",
    "        self.bred=bred\n",
    "    def area(self):\n",
    "        return self.bred*self.leng\n",
    "r1=Rectangle(3,4)\n",
    "print(r1.area())\n",
    "r1.set_bred(4)\n",
    "r1.set_len(5)\n",
    "print(r1.get_bred())\n",
    "print(r1.get_len())\n",
    "print(r1.area())"
   ]
  },
  {
   "cell_type": "markdown",
   "id": "c6af8290",
   "metadata": {},
   "source": [
    "\n",
    "\n",
    "### Assignment 11: Abstract Base Class\n",
    "\n",
    "Create an abstract base class named `Shape` with an abstract method `area`. Create derived classes `Circle` and `Square` that implement the `area` method. Create objects of the derived classes and call the `area` method."
   ]
  },
  {
   "cell_type": "code",
   "execution_count": 71,
   "id": "a271f398",
   "metadata": {},
   "outputs": [
    {
     "name": "stdout",
     "output_type": "stream",
     "text": [
      "78.5\n",
      "16\n"
     ]
    }
   ],
   "source": [
    "from abc import ABC, abstractmethod\n",
    "class Shape(ABC):\n",
    "    @abstractmethod\n",
    "    def area(self):\n",
    "        pass\n",
    "\n",
    "class Circle(Shape):\n",
    "    def area(self,r):\n",
    "        return 3.14*r*r\n",
    "class Square(Shape):\n",
    "    def area(self,s):\n",
    "        return s*s\n",
    "\n",
    "circle = Circle()\n",
    "square = Square()\n",
    "print(circle.area(5))  # 78.53981633974483\n",
    "print(square.area(4))  # 16"
   ]
  },
  {
   "cell_type": "markdown",
   "id": "b77b7230",
   "metadata": {},
   "source": [
    "\n",
    "\n",
    "### Assignment 12: Operator Overloading\n",
    "\n",
    "Create a class named `Vector` with attributes `x` and `y`. Overload the `+` operator to add two `Vector` objects. Create objects of the class and test the operator overloading."
   ]
  },
  {
   "cell_type": "code",
   "execution_count": 81,
   "id": "a397de7a",
   "metadata": {},
   "outputs": [
    {
     "name": "stdout",
     "output_type": "stream",
     "text": [
      "Vector(4, 6)\n"
     ]
    }
   ],
   "source": [
    "class Vector:\n",
    "    def __init__(self,x,y):\n",
    "        self.x=x\n",
    "        self.y=y\n",
    "    def __add__(self,other):\n",
    "        return Vector(self.x + other.x, self.y+other.y)\n",
    "    def __repr__(self):\n",
    "        return f\"Vector({self.x}, {self.y})\"\n",
    "obj =  Vector(1,2)\n",
    "o = Vector(3,4)\n",
    "\n",
    "print(obj + o)\n",
    "\n",
    "        "
   ]
  },
  {
   "cell_type": "markdown",
   "id": "87cb5ffd",
   "metadata": {},
   "source": [
    "\n",
    "### Assignment 13: Class with Custom Exception\n",
    "\n",
    "Create a custom exception named `InsufficientBalanceError`. In the `BankAccount` class, raise this exception when a withdrawal amount is greater than the balance. Handle the exception and print an appropriate message."
   ]
  },
  {
   "cell_type": "markdown",
   "id": "f439e775",
   "metadata": {},
   "source": [
    "\n",
    "### Assignment 14: Class with Context Manager\n",
    "\n",
    "Create a class named `FileManager` that implements the context manager protocol to open and close a file. Use this class to read the contents of a file."
   ]
  },
  {
   "cell_type": "markdown",
   "id": "f0bb3117",
   "metadata": {},
   "source": [
    "\n",
    "### Assignment 15: Chaining Methods\n",
    "\n",
    "Create a class named `Calculator` with methods to add, subtract, multiply, and divide. Each method should return the object itself to allow method chaining. Create an object and chain multiple method calls."
   ]
  }
 ],
 "metadata": {
  "kernelspec": {
   "display_name": "Python 3",
   "language": "python",
   "name": "python3"
  },
  "language_info": {
   "codemirror_mode": {
    "name": "ipython",
    "version": 3
   },
   "file_extension": ".py",
   "mimetype": "text/x-python",
   "name": "python",
   "nbconvert_exporter": "python",
   "pygments_lexer": "ipython3",
   "version": "3.12.0"
  }
 },
 "nbformat": 4,
 "nbformat_minor": 5
}
